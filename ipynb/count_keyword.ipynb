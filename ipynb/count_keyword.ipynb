{
 "cells": [
  {
   "cell_type": "code",
   "execution_count": 1,
   "metadata": {},
   "outputs": [],
   "source": [
    "import pandas as pd\n",
    "import os\n",
    "from ast import literal_eval"
   ]
  },
  {
   "cell_type": "code",
   "execution_count": 2,
   "metadata": {},
   "outputs": [],
   "source": [
    "os.chdir(r'./final_data')"
   ]
  },
  {
   "cell_type": "code",
   "execution_count": 9,
   "metadata": {},
   "outputs": [],
   "source": [
    "region = ['서울', '인천', '대전', '광주', '대구', '부산', '울산', '세종', '경기', '강원', '충북', '충남', '경북', '경남', '전북', '전남','제주']\n",
    "\n",
    "keyword_arr = []\n",
    "\n",
    "df2 = pd.DataFrame(columns=['keyword'])\n",
    "for r in region:\n",
    "    df = pd.read_csv(f'{r}_final_data.csv', encoding = 'utf-8-sig')\n",
    "    df_keyword = df['keyword']\n",
    "    for k in df_keyword:\n",
    "        keyword = k.replace('[', '').replace(']', '').replace(\"'\", \"\")\n",
    "        keyword_arr = keyword.replace(' ', '').split(',')\n",
    "        for keyword in keyword_arr:\n",
    "            df2 = df2.append(pd.DataFrame([[keyword]], columns=['keyword']))\n",
    "            \n"
   ]
  },
  {
   "cell_type": "code",
   "execution_count": 12,
   "metadata": {},
   "outputs": [
    {
     "data": {
      "text/plain": [
       "(83270, 1)"
      ]
     },
     "execution_count": 12,
     "metadata": {},
     "output_type": "execute_result"
    }
   ],
   "source": [
    "df2.shape"
   ]
  },
  {
   "cell_type": "code",
   "execution_count": 14,
   "metadata": {},
   "outputs": [
    {
     "name": "stdout",
     "output_type": "stream",
     "text": [
      "1349\n",
      "396\n",
      "159\n",
      "190\n",
      "308\n",
      "408\n",
      "169\n",
      "40\n",
      "1666\n",
      "1975\n",
      "834\n",
      "867\n",
      "1433\n",
      "1242\n",
      "1172\n",
      "1305\n",
      "548\n",
      "14061\n"
     ]
    }
   ],
   "source": [
    "num = 0\n",
    "for r in region:\n",
    "    df = pd.read_csv(f'{r}_final_data.csv', encoding = 'utf-8-sig')\n",
    "    num += df.shape[0]\n",
    "    print(df.shape[0])\n",
    "print(num)"
   ]
  },
  {
   "cell_type": "code",
   "execution_count": 20,
   "metadata": {},
   "outputs": [
    {
     "data": {
      "text/plain": [
       "(14061, 8)"
      ]
     },
     "execution_count": 20,
     "metadata": {},
     "output_type": "execute_result"
    }
   ],
   "source": [
    "df_result = pd.DataFrame(columns=['name', 'region', 'tel', 'keyword', 'photo', 'address', 'lat', 'lon'])\n",
    "\n",
    "for r in region:\n",
    "    df = pd.read_csv(f'{r}_final_data.csv', encoding = 'utf-8-sig')\n",
    "    df_result = pd.concat([df_result, df])\n",
    "\n",
    "df_result.shape"
   ]
  },
  {
   "cell_type": "code",
   "execution_count": 21,
   "metadata": {},
   "outputs": [],
   "source": [
    "df_result = df_result.drop_duplicates([\"name\", \"region\", \"tel\", \"keyword\", \"photo\"])"
   ]
  },
  {
   "cell_type": "code",
   "execution_count": 22,
   "metadata": {},
   "outputs": [],
   "source": [
    "df_result.reset_index(drop = True, inplace= True)"
   ]
  },
  {
   "cell_type": "code",
   "execution_count": 23,
   "metadata": {},
   "outputs": [],
   "source": [
    "df_result.set_index([\"name\"], inplace = True)"
   ]
  },
  {
   "cell_type": "code",
   "execution_count": 24,
   "metadata": {},
   "outputs": [],
   "source": [
    "df_result.sort_index(inplace = True)"
   ]
  },
  {
   "cell_type": "code",
   "execution_count": 25,
   "metadata": {},
   "outputs": [
    {
     "data": {
      "text/plain": [
       "(14061, 7)"
      ]
     },
     "execution_count": 25,
     "metadata": {},
     "output_type": "execute_result"
    }
   ],
   "source": [
    "df_result.shape"
   ]
  },
  {
   "cell_type": "code",
   "execution_count": 26,
   "metadata": {},
   "outputs": [],
   "source": [
    "df_result.to_csv(\"./전체_final_data.csv\", mode='w', encoding ='utf-8-sig')"
   ]
  },
  {
   "cell_type": "code",
   "execution_count": 28,
   "metadata": {},
   "outputs": [
    {
     "name": "stdout",
     "output_type": "stream",
     "text": [
      "<class 'pandas.core.frame.DataFrame'>\n",
      "Index: 14061 entries, (구)강경노동조합 to 힐튼양복점\n",
      "Data columns (total 7 columns):\n",
      " #   Column   Non-Null Count  Dtype  \n",
      "---  ------   --------------  -----  \n",
      " 0   region   14061 non-null  object \n",
      " 1   tel      13905 non-null  object \n",
      " 2   keyword  14061 non-null  object \n",
      " 3   photo    14061 non-null  object \n",
      " 4   address  14061 non-null  object \n",
      " 5   lat      14061 non-null  float64\n",
      " 6   lon      14061 non-null  float64\n",
      "dtypes: float64(2), object(5)\n",
      "memory usage: 878.8+ KB\n"
     ]
    }
   ],
   "source": [
    "df_result.info()"
   ]
  },
  {
   "cell_type": "code",
   "execution_count": null,
   "metadata": {},
   "outputs": [],
   "source": []
  }
 ],
 "metadata": {
  "kernelspec": {
   "display_name": "Python 3",
   "language": "python",
   "name": "python3"
  },
  "language_info": {
   "codemirror_mode": {
    "name": "ipython",
    "version": 3
   },
   "file_extension": ".py",
   "mimetype": "text/x-python",
   "name": "python",
   "nbconvert_exporter": "python",
   "pygments_lexer": "ipython3",
   "version": "3.8.3"
  }
 },
 "nbformat": 4,
 "nbformat_minor": 4
}
