{
 "cells": [
  {
   "cell_type": "code",
   "execution_count": 1,
   "metadata": {},
   "outputs": [],
   "source": [
    "import pandas as pd"
   ]
  },
  {
   "cell_type": "code",
   "execution_count": 2,
   "metadata": {},
   "outputs": [],
   "source": [
    "df_1 = pd.read_csv(r'./total_data_1/제주.csv', encoding = 'utf-8-sig')"
   ]
  },
  {
   "cell_type": "code",
   "execution_count": 3,
   "metadata": {},
   "outputs": [
    {
     "data": {
      "text/plain": [
       "(347, 8)"
      ]
     },
     "execution_count": 3,
     "metadata": {},
     "output_type": "execute_result"
    }
   ],
   "source": [
    "df_1.shape"
   ]
  },
  {
   "cell_type": "code",
   "execution_count": 4,
   "metadata": {},
   "outputs": [
    {
     "name": "stdout",
     "output_type": "stream",
     "text": [
      "<class 'pandas.core.frame.DataFrame'>\n",
      "RangeIndex: 347 entries, 0 to 346\n",
      "Data columns (total 8 columns):\n",
      " #   Column   Non-Null Count  Dtype  \n",
      "---  ------   --------------  -----  \n",
      " 0   name     347 non-null    object \n",
      " 1   region   347 non-null    object \n",
      " 2   tel      345 non-null    object \n",
      " 3   keyword  347 non-null    object \n",
      " 4   photo    347 non-null    object \n",
      " 5   address  347 non-null    object \n",
      " 6   lat      347 non-null    float64\n",
      " 7   lon      347 non-null    float64\n",
      "dtypes: float64(2), object(6)\n",
      "memory usage: 21.8+ KB\n"
     ]
    }
   ],
   "source": [
    "df_1.info()"
   ]
  },
  {
   "cell_type": "code",
   "execution_count": 5,
   "metadata": {},
   "outputs": [],
   "source": [
    "df_1 = df_1.drop_duplicates([\"name\", \"region\", \"tel\", \"keyword\", \"photo\"])"
   ]
  },
  {
   "cell_type": "code",
   "execution_count": 6,
   "metadata": {},
   "outputs": [
    {
     "data": {
      "text/plain": [
       "(347, 8)"
      ]
     },
     "execution_count": 6,
     "metadata": {},
     "output_type": "execute_result"
    }
   ],
   "source": [
    "df_1.shape"
   ]
  },
  {
   "cell_type": "code",
   "execution_count": 7,
   "metadata": {},
   "outputs": [
    {
     "name": "stdout",
     "output_type": "stream",
     "text": [
      "<class 'pandas.core.frame.DataFrame'>\n",
      "Int64Index: 347 entries, 0 to 346\n",
      "Data columns (total 8 columns):\n",
      " #   Column   Non-Null Count  Dtype  \n",
      "---  ------   --------------  -----  \n",
      " 0   name     347 non-null    object \n",
      " 1   region   347 non-null    object \n",
      " 2   tel      345 non-null    object \n",
      " 3   keyword  347 non-null    object \n",
      " 4   photo    347 non-null    object \n",
      " 5   address  347 non-null    object \n",
      " 6   lat      347 non-null    float64\n",
      " 7   lon      347 non-null    float64\n",
      "dtypes: float64(2), object(6)\n",
      "memory usage: 24.4+ KB\n"
     ]
    }
   ],
   "source": [
    "df_1.info()"
   ]
  },
  {
   "cell_type": "code",
   "execution_count": 8,
   "metadata": {},
   "outputs": [],
   "source": [
    "df_2 = pd.read_csv(r'./total_data_2/제주_data.csv', encoding = 'utf-8')"
   ]
  },
  {
   "cell_type": "code",
   "execution_count": 9,
   "metadata": {},
   "outputs": [],
   "source": [
    "df_2 = df_2.iloc[:, 1:9]"
   ]
  },
  {
   "cell_type": "code",
   "execution_count": 10,
   "metadata": {},
   "outputs": [
    {
     "data": {
      "text/plain": [
       "(228, 8)"
      ]
     },
     "execution_count": 10,
     "metadata": {},
     "output_type": "execute_result"
    }
   ],
   "source": [
    "df_2.shape"
   ]
  },
  {
   "cell_type": "code",
   "execution_count": 11,
   "metadata": {},
   "outputs": [
    {
     "name": "stdout",
     "output_type": "stream",
     "text": [
      "<class 'pandas.core.frame.DataFrame'>\n",
      "RangeIndex: 228 entries, 0 to 227\n",
      "Data columns (total 8 columns):\n",
      " #   Column   Non-Null Count  Dtype  \n",
      "---  ------   --------------  -----  \n",
      " 0   name     228 non-null    object \n",
      " 1   region   228 non-null    object \n",
      " 2   tel      228 non-null    object \n",
      " 3   keyword  228 non-null    object \n",
      " 4   photo    228 non-null    object \n",
      " 5   address  228 non-null    object \n",
      " 6   lat      228 non-null    float64\n",
      " 7   lon      228 non-null    float64\n",
      "dtypes: float64(2), object(6)\n",
      "memory usage: 14.4+ KB\n"
     ]
    }
   ],
   "source": [
    "df_2.info()"
   ]
  },
  {
   "cell_type": "code",
   "execution_count": 12,
   "metadata": {},
   "outputs": [],
   "source": [
    "df_2 = df_2.drop_duplicates([\"name\", \"region\", \"tel\", \"keyword\", \"photo\"])"
   ]
  },
  {
   "cell_type": "code",
   "execution_count": 13,
   "metadata": {},
   "outputs": [
    {
     "data": {
      "text/plain": [
       "(207, 8)"
      ]
     },
     "execution_count": 13,
     "metadata": {},
     "output_type": "execute_result"
    }
   ],
   "source": [
    "df_2.shape"
   ]
  },
  {
   "cell_type": "code",
   "execution_count": 14,
   "metadata": {},
   "outputs": [
    {
     "name": "stdout",
     "output_type": "stream",
     "text": [
      "<class 'pandas.core.frame.DataFrame'>\n",
      "Int64Index: 207 entries, 0 to 227\n",
      "Data columns (total 8 columns):\n",
      " #   Column   Non-Null Count  Dtype  \n",
      "---  ------   --------------  -----  \n",
      " 0   name     207 non-null    object \n",
      " 1   region   207 non-null    object \n",
      " 2   tel      207 non-null    object \n",
      " 3   keyword  207 non-null    object \n",
      " 4   photo    207 non-null    object \n",
      " 5   address  207 non-null    object \n",
      " 6   lat      207 non-null    float64\n",
      " 7   lon      207 non-null    float64\n",
      "dtypes: float64(2), object(6)\n",
      "memory usage: 14.6+ KB\n"
     ]
    }
   ],
   "source": [
    "df_2.info()"
   ]
  },
  {
   "cell_type": "code",
   "execution_count": 15,
   "metadata": {},
   "outputs": [],
   "source": [
    "df = pd.concat([df_1, df_2])"
   ]
  },
  {
   "cell_type": "code",
   "execution_count": 16,
   "metadata": {},
   "outputs": [
    {
     "data": {
      "text/plain": [
       "(554, 8)"
      ]
     },
     "execution_count": 16,
     "metadata": {},
     "output_type": "execute_result"
    }
   ],
   "source": [
    "df.shape"
   ]
  },
  {
   "cell_type": "code",
   "execution_count": 17,
   "metadata": {},
   "outputs": [
    {
     "name": "stdout",
     "output_type": "stream",
     "text": [
      "<class 'pandas.core.frame.DataFrame'>\n",
      "Int64Index: 554 entries, 0 to 227\n",
      "Data columns (total 8 columns):\n",
      " #   Column   Non-Null Count  Dtype  \n",
      "---  ------   --------------  -----  \n",
      " 0   name     554 non-null    object \n",
      " 1   region   554 non-null    object \n",
      " 2   tel      552 non-null    object \n",
      " 3   keyword  554 non-null    object \n",
      " 4   photo    554 non-null    object \n",
      " 5   address  554 non-null    object \n",
      " 6   lat      554 non-null    float64\n",
      " 7   lon      554 non-null    float64\n",
      "dtypes: float64(2), object(6)\n",
      "memory usage: 39.0+ KB\n"
     ]
    }
   ],
   "source": [
    "df.info()"
   ]
  },
  {
   "cell_type": "code",
   "execution_count": 18,
   "metadata": {},
   "outputs": [],
   "source": [
    "df = df.drop_duplicates([\"name\", \"region\", \"tel\", \"keyword\", \"photo\"])"
   ]
  },
  {
   "cell_type": "code",
   "execution_count": 19,
   "metadata": {},
   "outputs": [
    {
     "data": {
      "text/plain": [
       "(548, 8)"
      ]
     },
     "execution_count": 19,
     "metadata": {},
     "output_type": "execute_result"
    }
   ],
   "source": [
    "df.shape"
   ]
  },
  {
   "cell_type": "code",
   "execution_count": 20,
   "metadata": {},
   "outputs": [
    {
     "name": "stdout",
     "output_type": "stream",
     "text": [
      "<class 'pandas.core.frame.DataFrame'>\n",
      "Int64Index: 548 entries, 0 to 227\n",
      "Data columns (total 8 columns):\n",
      " #   Column   Non-Null Count  Dtype  \n",
      "---  ------   --------------  -----  \n",
      " 0   name     548 non-null    object \n",
      " 1   region   548 non-null    object \n",
      " 2   tel      546 non-null    object \n",
      " 3   keyword  548 non-null    object \n",
      " 4   photo    548 non-null    object \n",
      " 5   address  548 non-null    object \n",
      " 6   lat      548 non-null    float64\n",
      " 7   lon      548 non-null    float64\n",
      "dtypes: float64(2), object(6)\n",
      "memory usage: 38.5+ KB\n"
     ]
    }
   ],
   "source": [
    "df.info()"
   ]
  },
  {
   "cell_type": "code",
   "execution_count": 21,
   "metadata": {},
   "outputs": [],
   "source": [
    "df.reset_index(drop = True, inplace= True)"
   ]
  },
  {
   "cell_type": "code",
   "execution_count": 22,
   "metadata": {},
   "outputs": [],
   "source": [
    "df.set_index([\"name\"], inplace = True)"
   ]
  },
  {
   "cell_type": "code",
   "execution_count": 23,
   "metadata": {},
   "outputs": [],
   "source": [
    "df.sort_index(inplace = True)"
   ]
  },
  {
   "cell_type": "code",
   "execution_count": 24,
   "metadata": {},
   "outputs": [
    {
     "data": {
      "text/html": [
       "<div>\n",
       "<style scoped>\n",
       "    .dataframe tbody tr th:only-of-type {\n",
       "        vertical-align: middle;\n",
       "    }\n",
       "\n",
       "    .dataframe tbody tr th {\n",
       "        vertical-align: top;\n",
       "    }\n",
       "\n",
       "    .dataframe thead th {\n",
       "        text-align: right;\n",
       "    }\n",
       "</style>\n",
       "<table border=\"1\" class=\"dataframe\">\n",
       "  <thead>\n",
       "    <tr style=\"text-align: right;\">\n",
       "      <th></th>\n",
       "      <th>region</th>\n",
       "      <th>tel</th>\n",
       "      <th>keyword</th>\n",
       "      <th>photo</th>\n",
       "      <th>address</th>\n",
       "      <th>lat</th>\n",
       "      <th>lon</th>\n",
       "    </tr>\n",
       "    <tr>\n",
       "      <th>name</th>\n",
       "      <th></th>\n",
       "      <th></th>\n",
       "      <th></th>\n",
       "      <th></th>\n",
       "      <th></th>\n",
       "      <th></th>\n",
       "      <th></th>\n",
       "    </tr>\n",
       "  </thead>\n",
       "  <tbody>\n",
       "    <tr>\n",
       "      <th>1100고지습지</th>\n",
       "      <td>제주 서귀포시</td>\n",
       "      <td>064-710-4071</td>\n",
       "      <td>['관광지', '자연']</td>\n",
       "      <td>https://cdn.visitkorea.or.kr/img/call?cmd=VIEW...</td>\n",
       "      <td>제주특별자치도 서귀포시 색달동 산 1-2</td>\n",
       "      <td>33.357774</td>\n",
       "      <td>126.462518</td>\n",
       "    </tr>\n",
       "    <tr>\n",
       "      <th>9.81 파크</th>\n",
       "      <td>제주 제주시</td>\n",
       "      <td>981 1833-9810</td>\n",
       "      <td>['남녀노소', '레포츠', '복합레저스포츠', '연인과함께', '이색체험', '제...</td>\n",
       "      <td>https://cdn.visitkorea.or.kr/img/call?cmd=VIEW...</td>\n",
       "      <td>제주특별자치도 제주시 애월읍 천덕로 880-24</td>\n",
       "      <td>33.391182</td>\n",
       "      <td>126.366528</td>\n",
       "    </tr>\n",
       "    <tr>\n",
       "      <th>JDC 면세점 (제주공항점)</th>\n",
       "      <td>제주 제주시</td>\n",
       "      <td>064-740-9900</td>\n",
       "      <td>['공항면세점', '관광객', '면세점', '쇼핑', '유명브랜드']</td>\n",
       "      <td>https://cdn.visitkorea.or.kr/img/call?cmd=VIEW...</td>\n",
       "      <td>제주특별자치도 제주시 공항로 2</td>\n",
       "      <td>33.506334</td>\n",
       "      <td>126.495261</td>\n",
       "    </tr>\n",
       "    <tr>\n",
       "      <th>KBS 제주</th>\n",
       "      <td>제주 제주시</td>\n",
       "      <td>064-740-7151</td>\n",
       "      <td>['kbs', 'KBS제주', '견학', '관광지', '문화콘텐츠산업', '방송국'...</td>\n",
       "      <td>https://cdn.visitkorea.or.kr/img/call?cmd=VIEW...</td>\n",
       "      <td>제주특별자치도 제주시 복지로1길 8</td>\n",
       "      <td>33.488025</td>\n",
       "      <td>126.526372</td>\n",
       "    </tr>\n",
       "    <tr>\n",
       "      <th>SOS박물관</th>\n",
       "      <td>제주 서귀포시</td>\n",
       "      <td>064-739-7707</td>\n",
       "      <td>['SOS박물관', '가족과함께', '관광지', '교과서속여행', '교육체험', '...</td>\n",
       "      <td>https://cdn.visitkorea.or.kr/img/call?cmd=VIEW...</td>\n",
       "      <td>제주특별자치도 서귀포시 월드컵로 31</td>\n",
       "      <td>33.247239</td>\n",
       "      <td>126.509208</td>\n",
       "    </tr>\n",
       "  </tbody>\n",
       "</table>\n",
       "</div>"
      ],
      "text/plain": [
       "                  region            tel  \\\n",
       "name                                      \n",
       "1100고지습지         제주 서귀포시   064-710-4071   \n",
       "9.81 파크           제주 제주시  981 1833-9810   \n",
       "JDC 면세점 (제주공항점)   제주 제주시   064-740-9900   \n",
       "KBS 제주            제주 제주시   064-740-7151   \n",
       "SOS박물관           제주 서귀포시   064-739-7707   \n",
       "\n",
       "                                                           keyword  \\\n",
       "name                                                                 \n",
       "1100고지습지                                             ['관광지', '자연']   \n",
       "9.81 파크          ['남녀노소', '레포츠', '복합레저스포츠', '연인과함께', '이색체험', '제...   \n",
       "JDC 면세점 (제주공항점)             ['공항면세점', '관광객', '면세점', '쇼핑', '유명브랜드']   \n",
       "KBS 제주           ['kbs', 'KBS제주', '견학', '관광지', '문화콘텐츠산업', '방송국'...   \n",
       "SOS박물관           ['SOS박물관', '가족과함께', '관광지', '교과서속여행', '교육체험', '...   \n",
       "\n",
       "                                                             photo  \\\n",
       "name                                                                 \n",
       "1100고지습지         https://cdn.visitkorea.or.kr/img/call?cmd=VIEW...   \n",
       "9.81 파크          https://cdn.visitkorea.or.kr/img/call?cmd=VIEW...   \n",
       "JDC 면세점 (제주공항점)  https://cdn.visitkorea.or.kr/img/call?cmd=VIEW...   \n",
       "KBS 제주           https://cdn.visitkorea.or.kr/img/call?cmd=VIEW...   \n",
       "SOS박물관           https://cdn.visitkorea.or.kr/img/call?cmd=VIEW...   \n",
       "\n",
       "                                    address        lat         lon  \n",
       "name                                                                \n",
       "1100고지습지             제주특별자치도 서귀포시 색달동 산 1-2  33.357774  126.462518  \n",
       "9.81 파크          제주특별자치도 제주시 애월읍 천덕로 880-24  33.391182  126.366528  \n",
       "JDC 면세점 (제주공항점)           제주특별자치도 제주시 공항로 2  33.506334  126.495261  \n",
       "KBS 제주                  제주특별자치도 제주시 복지로1길 8  33.488025  126.526372  \n",
       "SOS박물관                 제주특별자치도 서귀포시 월드컵로 31  33.247239  126.509208  "
      ]
     },
     "execution_count": 24,
     "metadata": {},
     "output_type": "execute_result"
    }
   ],
   "source": [
    "df.head()"
   ]
  },
  {
   "cell_type": "code",
   "execution_count": 25,
   "metadata": {},
   "outputs": [
    {
     "data": {
      "text/html": [
       "<div>\n",
       "<style scoped>\n",
       "    .dataframe tbody tr th:only-of-type {\n",
       "        vertical-align: middle;\n",
       "    }\n",
       "\n",
       "    .dataframe tbody tr th {\n",
       "        vertical-align: top;\n",
       "    }\n",
       "\n",
       "    .dataframe thead th {\n",
       "        text-align: right;\n",
       "    }\n",
       "</style>\n",
       "<table border=\"1\" class=\"dataframe\">\n",
       "  <thead>\n",
       "    <tr style=\"text-align: right;\">\n",
       "      <th></th>\n",
       "      <th>region</th>\n",
       "      <th>tel</th>\n",
       "      <th>keyword</th>\n",
       "      <th>photo</th>\n",
       "      <th>address</th>\n",
       "      <th>lat</th>\n",
       "      <th>lon</th>\n",
       "    </tr>\n",
       "    <tr>\n",
       "      <th>name</th>\n",
       "      <th></th>\n",
       "      <th></th>\n",
       "      <th></th>\n",
       "      <th></th>\n",
       "      <th></th>\n",
       "      <th></th>\n",
       "      <th></th>\n",
       "    </tr>\n",
       "  </thead>\n",
       "  <tbody>\n",
       "    <tr>\n",
       "      <th>황우지해안</th>\n",
       "      <td>제주 서귀포시</td>\n",
       "      <td>064-740-6000</td>\n",
       "      <td>['걷기길', '관광지', '바다풍경', '여름여행', '자연', '자연속으로', ...</td>\n",
       "      <td>https://cdn.visitkorea.or.kr/img/call?cmd=VIEW...</td>\n",
       "      <td>제주특별자치도 서귀포시 서홍동</td>\n",
       "      <td>33.263958</td>\n",
       "      <td>126.550729</td>\n",
       "    </tr>\n",
       "    <tr>\n",
       "      <th>후곡악</th>\n",
       "      <td>제주 서귀포시</td>\n",
       "      <td>064-740-6000</td>\n",
       "      <td>['관광지', '자연']</td>\n",
       "      <td>https://cdn.visitkorea.or.kr/img/call?cmd=VIEW...</td>\n",
       "      <td>제주특별자치도 서귀포시 성산읍 일주동로</td>\n",
       "      <td>33.416346</td>\n",
       "      <td>126.889907</td>\n",
       "    </tr>\n",
       "    <tr>\n",
       "      <th>휴림</th>\n",
       "      <td>제주 제주시</td>\n",
       "      <td>064-799-4883</td>\n",
       "      <td>['가족과함께', '관광지', '국내힐링여행', '남녀노소', '아이와함께', '언...</td>\n",
       "      <td>https://cdn.visitkorea.or.kr/img/call?cmd=VIEW...</td>\n",
       "      <td>제주특별자치도 제주시 애월읍 광령남서길 40</td>\n",
       "      <td>33.443436</td>\n",
       "      <td>126.428992</td>\n",
       "    </tr>\n",
       "    <tr>\n",
       "      <th>휴애리자연생활공원</th>\n",
       "      <td>제주 서귀포시</td>\n",
       "      <td>064-732-2114</td>\n",
       "      <td>['가족과함께', '가족체험', '감성사진', '관광지', '데이트장소추천', '복...</td>\n",
       "      <td>https://cdn.visitkorea.or.kr/img/call?cmd=VIEW...</td>\n",
       "      <td>제주특별자치도 서귀포시 남원읍 신례동로 256</td>\n",
       "      <td>33.308540</td>\n",
       "      <td>126.634483</td>\n",
       "    </tr>\n",
       "    <tr>\n",
       "      <th>흙붉은오름</th>\n",
       "      <td>제주 제주시</td>\n",
       "      <td>064-740-6000</td>\n",
       "      <td>['관광지', '자연']</td>\n",
       "      <td>https://cdn.visitkorea.or.kr/img/call?cmd=VIEW...</td>\n",
       "      <td>제주특별자치도 서귀포시 남원읍 영실로</td>\n",
       "      <td>33.369852</td>\n",
       "      <td>126.555638</td>\n",
       "    </tr>\n",
       "  </tbody>\n",
       "</table>\n",
       "</div>"
      ],
      "text/plain": [
       "            region           tel  \\\n",
       "name                               \n",
       "황우지해안      제주 서귀포시  064-740-6000   \n",
       "후곡악        제주 서귀포시  064-740-6000   \n",
       "휴림          제주 제주시  064-799-4883   \n",
       "휴애리자연생활공원  제주 서귀포시  064-732-2114   \n",
       "흙붉은오름       제주 제주시  064-740-6000   \n",
       "\n",
       "                                                     keyword  \\\n",
       "name                                                           \n",
       "황우지해안      ['걷기길', '관광지', '바다풍경', '여름여행', '자연', '자연속으로', ...   \n",
       "후곡악                                            ['관광지', '자연']   \n",
       "휴림         ['가족과함께', '관광지', '국내힐링여행', '남녀노소', '아이와함께', '언...   \n",
       "휴애리자연생활공원  ['가족과함께', '가족체험', '감성사진', '관광지', '데이트장소추천', '복...   \n",
       "흙붉은오름                                          ['관광지', '자연']   \n",
       "\n",
       "                                                       photo  \\\n",
       "name                                                           \n",
       "황우지해안      https://cdn.visitkorea.or.kr/img/call?cmd=VIEW...   \n",
       "후곡악        https://cdn.visitkorea.or.kr/img/call?cmd=VIEW...   \n",
       "휴림         https://cdn.visitkorea.or.kr/img/call?cmd=VIEW...   \n",
       "휴애리자연생활공원  https://cdn.visitkorea.or.kr/img/call?cmd=VIEW...   \n",
       "흙붉은오름      https://cdn.visitkorea.or.kr/img/call?cmd=VIEW...   \n",
       "\n",
       "                             address        lat         lon  \n",
       "name                                                         \n",
       "황우지해안               제주특별자치도 서귀포시 서홍동  33.263958  126.550729  \n",
       "후곡악            제주특별자치도 서귀포시 성산읍 일주동로  33.416346  126.889907  \n",
       "휴림          제주특별자치도 제주시 애월읍 광령남서길 40  33.443436  126.428992  \n",
       "휴애리자연생활공원  제주특별자치도 서귀포시 남원읍 신례동로 256  33.308540  126.634483  \n",
       "흙붉은오름           제주특별자치도 서귀포시 남원읍 영실로  33.369852  126.555638  "
      ]
     },
     "execution_count": 25,
     "metadata": {},
     "output_type": "execute_result"
    }
   ],
   "source": [
    "df.tail()"
   ]
  },
  {
   "cell_type": "code",
   "execution_count": 26,
   "metadata": {},
   "outputs": [],
   "source": [
    "df.to_csv(\"./final_data/제주_final_data.csv\", mode='w', encoding ='utf-8-sig')"
   ]
  }
 ],
 "metadata": {
  "kernelspec": {
   "display_name": "Python 3",
   "language": "python",
   "name": "python3"
  },
  "language_info": {
   "codemirror_mode": {
    "name": "ipython",
    "version": 3
   },
   "file_extension": ".py",
   "mimetype": "text/x-python",
   "name": "python",
   "nbconvert_exporter": "python",
   "pygments_lexer": "ipython3",
   "version": "3.8.3"
  }
 },
 "nbformat": 4,
 "nbformat_minor": 4
}
