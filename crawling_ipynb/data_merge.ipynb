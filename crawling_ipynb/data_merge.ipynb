{
 "cells": [
  {
   "cell_type": "code",
   "execution_count": 1,
   "metadata": {},
   "outputs": [],
   "source": [
    "import pandas as pd"
   ]
  },
  {
   "cell_type": "code",
   "execution_count": 2,
   "metadata": {},
   "outputs": [],
   "source": [
    "df_tour = pd.read_csv(r'.\\travel_data_tourism_area\\제주_tourism_area_data.csv', encoding = 'utf-8-sig')"
   ]
  },
  {
   "cell_type": "code",
   "execution_count": 3,
   "metadata": {},
   "outputs": [
    {
     "data": {
      "text/html": [
       "<div>\n",
       "<style scoped>\n",
       "    .dataframe tbody tr th:only-of-type {\n",
       "        vertical-align: middle;\n",
       "    }\n",
       "\n",
       "    .dataframe tbody tr th {\n",
       "        vertical-align: top;\n",
       "    }\n",
       "\n",
       "    .dataframe thead th {\n",
       "        text-align: right;\n",
       "    }\n",
       "</style>\n",
       "<table border=\"1\" class=\"dataframe\">\n",
       "  <thead>\n",
       "    <tr style=\"text-align: right;\">\n",
       "      <th></th>\n",
       "      <th>name</th>\n",
       "      <th>region</th>\n",
       "      <th>tel</th>\n",
       "      <th>keyword</th>\n",
       "      <th>photo</th>\n",
       "      <th>address</th>\n",
       "      <th>lat</th>\n",
       "      <th>lon</th>\n",
       "    </tr>\n",
       "  </thead>\n",
       "  <tbody>\n",
       "    <tr>\n",
       "      <th>0</th>\n",
       "      <td>1100고지습지</td>\n",
       "      <td>제주 서귀포시</td>\n",
       "      <td>064-710-4071</td>\n",
       "      <td>['관광지', '자연']</td>\n",
       "      <td>https://cdn.visitkorea.or.kr/img/call?cmd=VIEW...</td>\n",
       "      <td>제주특별자치도 서귀포시 색달동 산 1-2</td>\n",
       "      <td>33.357774</td>\n",
       "      <td>126.462518</td>\n",
       "    </tr>\n",
       "    <tr>\n",
       "      <th>1</th>\n",
       "      <td>KBS 제주</td>\n",
       "      <td>제주 제주시</td>\n",
       "      <td>064-740-7151</td>\n",
       "      <td>['kbs', 'KBS제주', '견학', '관광지', '문화콘텐츠산업', '방송국'...</td>\n",
       "      <td>https://cdn.visitkorea.or.kr/img/call?cmd=VIEW...</td>\n",
       "      <td>제주특별자치도 제주시 복지로1길 8</td>\n",
       "      <td>33.488025</td>\n",
       "      <td>126.526372</td>\n",
       "    </tr>\n",
       "    <tr>\n",
       "      <th>2</th>\n",
       "      <td>SOS박물관</td>\n",
       "      <td>제주 서귀포시</td>\n",
       "      <td>064-739-7707</td>\n",
       "      <td>['SOS박물관', '가족과함께', '관광지', '교과서속여행', '교육체험', '...</td>\n",
       "      <td>https://cdn.visitkorea.or.kr/img/call?cmd=VIEW...</td>\n",
       "      <td>제주특별자치도 서귀포시 월드컵로 31</td>\n",
       "      <td>33.247239</td>\n",
       "      <td>126.509208</td>\n",
       "    </tr>\n",
       "    <tr>\n",
       "      <th>3</th>\n",
       "      <td>가마오름</td>\n",
       "      <td>제주 제주시</td>\n",
       "      <td>064-740-6000</td>\n",
       "      <td>['관광지', '자연']</td>\n",
       "      <td>https://cdn.visitkorea.or.kr/img/call?cmd=VIEW...</td>\n",
       "      <td>제주특별자치도 제주시 한경면 청수서5길</td>\n",
       "      <td>33.303928</td>\n",
       "      <td>126.253830</td>\n",
       "    </tr>\n",
       "    <tr>\n",
       "      <th>4</th>\n",
       "      <td>가메창(암메)</td>\n",
       "      <td>제주 제주시</td>\n",
       "      <td>064-740-6000</td>\n",
       "      <td>['관광지', '자연']</td>\n",
       "      <td>https://cdn.visitkorea.or.kr/img/call?cmd=VIEW...</td>\n",
       "      <td>제주특별자치도 제주시 한경면 청수로 13-3</td>\n",
       "      <td>33.320907</td>\n",
       "      <td>126.246082</td>\n",
       "    </tr>\n",
       "  </tbody>\n",
       "</table>\n",
       "</div>"
      ],
      "text/plain": [
       "       name   region           tel  \\\n",
       "0  1100고지습지  제주 서귀포시  064-710-4071   \n",
       "1    KBS 제주   제주 제주시  064-740-7151   \n",
       "2    SOS박물관  제주 서귀포시  064-739-7707   \n",
       "3      가마오름   제주 제주시  064-740-6000   \n",
       "4   가메창(암메)   제주 제주시  064-740-6000   \n",
       "\n",
       "                                             keyword  \\\n",
       "0                                      ['관광지', '자연']   \n",
       "1  ['kbs', 'KBS제주', '견학', '관광지', '문화콘텐츠산업', '방송국'...   \n",
       "2  ['SOS박물관', '가족과함께', '관광지', '교과서속여행', '교육체험', '...   \n",
       "3                                      ['관광지', '자연']   \n",
       "4                                      ['관광지', '자연']   \n",
       "\n",
       "                                               photo  \\\n",
       "0  https://cdn.visitkorea.or.kr/img/call?cmd=VIEW...   \n",
       "1  https://cdn.visitkorea.or.kr/img/call?cmd=VIEW...   \n",
       "2  https://cdn.visitkorea.or.kr/img/call?cmd=VIEW...   \n",
       "3  https://cdn.visitkorea.or.kr/img/call?cmd=VIEW...   \n",
       "4  https://cdn.visitkorea.or.kr/img/call?cmd=VIEW...   \n",
       "\n",
       "                    address        lat         lon  \n",
       "0    제주특별자치도 서귀포시 색달동 산 1-2  33.357774  126.462518  \n",
       "1       제주특별자치도 제주시 복지로1길 8  33.488025  126.526372  \n",
       "2      제주특별자치도 서귀포시 월드컵로 31  33.247239  126.509208  \n",
       "3     제주특별자치도 제주시 한경면 청수서5길  33.303928  126.253830  \n",
       "4  제주특별자치도 제주시 한경면 청수로 13-3  33.320907  126.246082  "
      ]
     },
     "execution_count": 3,
     "metadata": {},
     "output_type": "execute_result"
    }
   ],
   "source": [
    "df_tour.head()"
   ]
  },
  {
   "cell_type": "code",
   "execution_count": 4,
   "metadata": {},
   "outputs": [
    {
     "data": {
      "text/plain": [
       "(344, 8)"
      ]
     },
     "execution_count": 4,
     "metadata": {},
     "output_type": "execute_result"
    }
   ],
   "source": [
    "df_tour.shape"
   ]
  },
  {
   "cell_type": "code",
   "execution_count": 5,
   "metadata": {},
   "outputs": [
    {
     "name": "stdout",
     "output_type": "stream",
     "text": [
      "<class 'pandas.core.frame.DataFrame'>\n",
      "RangeIndex: 344 entries, 0 to 343\n",
      "Data columns (total 8 columns):\n",
      " #   Column   Non-Null Count  Dtype  \n",
      "---  ------   --------------  -----  \n",
      " 0   name     344 non-null    object \n",
      " 1   region   344 non-null    object \n",
      " 2   tel      342 non-null    object \n",
      " 3   keyword  344 non-null    object \n",
      " 4   photo    344 non-null    object \n",
      " 5   address  344 non-null    object \n",
      " 6   lat      344 non-null    float64\n",
      " 7   lon      344 non-null    float64\n",
      "dtypes: float64(2), object(6)\n",
      "memory usage: 21.6+ KB\n"
     ]
    }
   ],
   "source": [
    "df_tour.info()"
   ]
  },
  {
   "cell_type": "code",
   "execution_count": 6,
   "metadata": {},
   "outputs": [],
   "source": [
    "df_tour = df_tour.drop_duplicates([\"name\", \"region\", \"tel\", \"keyword\", \"photo\"])"
   ]
  },
  {
   "cell_type": "code",
   "execution_count": 7,
   "metadata": {},
   "outputs": [
    {
     "data": {
      "text/plain": [
       "(344, 8)"
      ]
     },
     "execution_count": 7,
     "metadata": {},
     "output_type": "execute_result"
    }
   ],
   "source": [
    "df_tour.shape"
   ]
  },
  {
   "cell_type": "code",
   "execution_count": 8,
   "metadata": {},
   "outputs": [
    {
     "name": "stdout",
     "output_type": "stream",
     "text": [
      "<class 'pandas.core.frame.DataFrame'>\n",
      "Int64Index: 344 entries, 0 to 343\n",
      "Data columns (total 8 columns):\n",
      " #   Column   Non-Null Count  Dtype  \n",
      "---  ------   --------------  -----  \n",
      " 0   name     344 non-null    object \n",
      " 1   region   344 non-null    object \n",
      " 2   tel      342 non-null    object \n",
      " 3   keyword  344 non-null    object \n",
      " 4   photo    344 non-null    object \n",
      " 5   address  344 non-null    object \n",
      " 6   lat      344 non-null    float64\n",
      " 7   lon      344 non-null    float64\n",
      "dtypes: float64(2), object(6)\n",
      "memory usage: 24.2+ KB\n"
     ]
    }
   ],
   "source": [
    "df_tour.info()"
   ]
  },
  {
   "cell_type": "code",
   "execution_count": 55,
   "metadata": {},
   "outputs": [],
   "source": [
    "df_exp = pd.read_csv(r'.\\travel_data_experience\\제주_experience_data.csv', encoding = 'utf-8-sig')"
   ]
  },
  {
   "cell_type": "code",
   "execution_count": 10,
   "metadata": {},
   "outputs": [
    {
     "data": {
      "text/html": [
       "<div>\n",
       "<style scoped>\n",
       "    .dataframe tbody tr th:only-of-type {\n",
       "        vertical-align: middle;\n",
       "    }\n",
       "\n",
       "    .dataframe tbody tr th {\n",
       "        vertical-align: top;\n",
       "    }\n",
       "\n",
       "    .dataframe thead th {\n",
       "        text-align: right;\n",
       "    }\n",
       "</style>\n",
       "<table border=\"1\" class=\"dataframe\">\n",
       "  <thead>\n",
       "    <tr style=\"text-align: right;\">\n",
       "      <th></th>\n",
       "      <th>name</th>\n",
       "      <th>region</th>\n",
       "      <th>tel</th>\n",
       "      <th>keyword</th>\n",
       "      <th>photo</th>\n",
       "    </tr>\n",
       "  </thead>\n",
       "  <tbody>\n",
       "    <tr>\n",
       "      <th>0</th>\n",
       "      <td>서귀포 가시리마을 (녹산로 유채꽃도로)</td>\n",
       "      <td>제주 서귀포시</td>\n",
       "      <td>064-787-1305</td>\n",
       "      <td>['가족과함께', '감성사진', '경치좋은곳', '관광지', '드라이브여행', '드...</td>\n",
       "      <td>https://cdn.visitkorea.or.kr/img/call?cmd=VIEW...</td>\n",
       "    </tr>\n",
       "    <tr>\n",
       "      <th>1</th>\n",
       "      <td>제주허브동산</td>\n",
       "      <td>제주 서귀포시</td>\n",
       "      <td>064-787-7362</td>\n",
       "      <td>['가족여행', '관광지', '생태관광지', '연중무휴', '자연좋은곳', '제주권...</td>\n",
       "      <td>https://cdn.visitkorea.or.kr/img/call?cmd=VIEW...</td>\n",
       "    </tr>\n",
       "    <tr>\n",
       "      <th>2</th>\n",
       "      <td>조랑말체험공원</td>\n",
       "      <td>제주 서귀포시</td>\n",
       "      <td>064-787-0960</td>\n",
       "      <td>['가족과함께', '가족여행', '가족체험여행', '관광지', '사계절', '아이와...</td>\n",
       "      <td>https://cdn.visitkorea.or.kr/img/call?cmd=VIEW...</td>\n",
       "    </tr>\n",
       "    <tr>\n",
       "      <th>3</th>\n",
       "      <td>어멍아방잔치마을</td>\n",
       "      <td>제주 서귀포시</td>\n",
       "      <td>064-782-7445</td>\n",
       "      <td>['관광지', '어멍아방잔치마을', '이색체험', '자연마을', '자연속으로', '...</td>\n",
       "      <td>https://cdn.visitkorea.or.kr/img/call?cmd=VIEW...</td>\n",
       "    </tr>\n",
       "    <tr>\n",
       "      <th>4</th>\n",
       "      <td>제주 동백마을</td>\n",
       "      <td>제주 서귀포시</td>\n",
       "      <td>064-764-8756</td>\n",
       "      <td>['가족체험여행', '관광지', '꽃여행', '동백마을', '자연마을', '자연좋은...</td>\n",
       "      <td>https://cdn.visitkorea.or.kr/img/call?cmd=VIEW...</td>\n",
       "    </tr>\n",
       "  </tbody>\n",
       "</table>\n",
       "</div>"
      ],
      "text/plain": [
       "                    name   region           tel  \\\n",
       "0  서귀포 가시리마을 (녹산로 유채꽃도로)  제주 서귀포시  064-787-1305   \n",
       "1                 제주허브동산  제주 서귀포시  064-787-7362   \n",
       "2                조랑말체험공원  제주 서귀포시  064-787-0960   \n",
       "3               어멍아방잔치마을  제주 서귀포시  064-782-7445   \n",
       "4                제주 동백마을  제주 서귀포시  064-764-8756   \n",
       "\n",
       "                                             keyword  \\\n",
       "0  ['가족과함께', '감성사진', '경치좋은곳', '관광지', '드라이브여행', '드...   \n",
       "1  ['가족여행', '관광지', '생태관광지', '연중무휴', '자연좋은곳', '제주권...   \n",
       "2  ['가족과함께', '가족여행', '가족체험여행', '관광지', '사계절', '아이와...   \n",
       "3  ['관광지', '어멍아방잔치마을', '이색체험', '자연마을', '자연속으로', '...   \n",
       "4  ['가족체험여행', '관광지', '꽃여행', '동백마을', '자연마을', '자연좋은...   \n",
       "\n",
       "                                               photo  \n",
       "0  https://cdn.visitkorea.or.kr/img/call?cmd=VIEW...  \n",
       "1  https://cdn.visitkorea.or.kr/img/call?cmd=VIEW...  \n",
       "2  https://cdn.visitkorea.or.kr/img/call?cmd=VIEW...  \n",
       "3  https://cdn.visitkorea.or.kr/img/call?cmd=VIEW...  \n",
       "4  https://cdn.visitkorea.or.kr/img/call?cmd=VIEW...  "
      ]
     },
     "execution_count": 10,
     "metadata": {},
     "output_type": "execute_result"
    }
   ],
   "source": [
    "df_exp.head()"
   ]
  },
  {
   "cell_type": "code",
   "execution_count": 11,
   "metadata": {},
   "outputs": [
    {
     "data": {
      "text/plain": [
       "(40, 5)"
      ]
     },
     "execution_count": 11,
     "metadata": {},
     "output_type": "execute_result"
    }
   ],
   "source": [
    "df_exp.shape"
   ]
  },
  {
   "cell_type": "code",
   "execution_count": 12,
   "metadata": {},
   "outputs": [
    {
     "name": "stdout",
     "output_type": "stream",
     "text": [
      "<class 'pandas.core.frame.DataFrame'>\n",
      "RangeIndex: 40 entries, 0 to 39\n",
      "Data columns (total 5 columns):\n",
      " #   Column   Non-Null Count  Dtype \n",
      "---  ------   --------------  ----- \n",
      " 0   name     40 non-null     object\n",
      " 1   region   40 non-null     object\n",
      " 2   tel      40 non-null     object\n",
      " 3   keyword  40 non-null     object\n",
      " 4   photo    40 non-null     object\n",
      "dtypes: object(5)\n",
      "memory usage: 1.7+ KB\n"
     ]
    }
   ],
   "source": [
    "df_exp.info()"
   ]
  },
  {
   "cell_type": "code",
   "execution_count": 13,
   "metadata": {},
   "outputs": [],
   "source": [
    "df_exp = df_exp.drop_duplicates([\"name\", \"region\", \"tel\", \"keyword\", \"photo\"])"
   ]
  },
  {
   "cell_type": "code",
   "execution_count": 14,
   "metadata": {},
   "outputs": [
    {
     "data": {
      "text/plain": [
       "(40, 5)"
      ]
     },
     "execution_count": 14,
     "metadata": {},
     "output_type": "execute_result"
    }
   ],
   "source": [
    "df_exp.shape"
   ]
  },
  {
   "cell_type": "code",
   "execution_count": 15,
   "metadata": {},
   "outputs": [
    {
     "name": "stdout",
     "output_type": "stream",
     "text": [
      "<class 'pandas.core.frame.DataFrame'>\n",
      "Int64Index: 40 entries, 0 to 39\n",
      "Data columns (total 5 columns):\n",
      " #   Column   Non-Null Count  Dtype \n",
      "---  ------   --------------  ----- \n",
      " 0   name     40 non-null     object\n",
      " 1   region   40 non-null     object\n",
      " 2   tel      40 non-null     object\n",
      " 3   keyword  40 non-null     object\n",
      " 4   photo    40 non-null     object\n",
      "dtypes: object(5)\n",
      "memory usage: 1.9+ KB\n"
     ]
    }
   ],
   "source": [
    "df_exp.info()"
   ]
  },
  {
   "cell_type": "code",
   "execution_count": 16,
   "metadata": {},
   "outputs": [],
   "source": [
    "df_1 =pd.concat([df_tour, df_exp])"
   ]
  },
  {
   "cell_type": "code",
   "execution_count": 17,
   "metadata": {},
   "outputs": [
    {
     "data": {
      "text/plain": [
       "(384, 8)"
      ]
     },
     "execution_count": 17,
     "metadata": {},
     "output_type": "execute_result"
    }
   ],
   "source": [
    "df_1.shape"
   ]
  },
  {
   "cell_type": "code",
   "execution_count": 18,
   "metadata": {},
   "outputs": [
    {
     "data": {
      "text/html": [
       "<div>\n",
       "<style scoped>\n",
       "    .dataframe tbody tr th:only-of-type {\n",
       "        vertical-align: middle;\n",
       "    }\n",
       "\n",
       "    .dataframe tbody tr th {\n",
       "        vertical-align: top;\n",
       "    }\n",
       "\n",
       "    .dataframe thead th {\n",
       "        text-align: right;\n",
       "    }\n",
       "</style>\n",
       "<table border=\"1\" class=\"dataframe\">\n",
       "  <thead>\n",
       "    <tr style=\"text-align: right;\">\n",
       "      <th></th>\n",
       "      <th>name</th>\n",
       "      <th>region</th>\n",
       "      <th>tel</th>\n",
       "      <th>keyword</th>\n",
       "      <th>photo</th>\n",
       "      <th>address</th>\n",
       "      <th>lat</th>\n",
       "      <th>lon</th>\n",
       "    </tr>\n",
       "  </thead>\n",
       "  <tbody>\n",
       "    <tr>\n",
       "      <th>0</th>\n",
       "      <td>1100고지습지</td>\n",
       "      <td>제주 서귀포시</td>\n",
       "      <td>064-710-4071</td>\n",
       "      <td>['관광지', '자연']</td>\n",
       "      <td>https://cdn.visitkorea.or.kr/img/call?cmd=VIEW...</td>\n",
       "      <td>제주특별자치도 서귀포시 색달동 산 1-2</td>\n",
       "      <td>33.357774</td>\n",
       "      <td>126.462518</td>\n",
       "    </tr>\n",
       "    <tr>\n",
       "      <th>1</th>\n",
       "      <td>KBS 제주</td>\n",
       "      <td>제주 제주시</td>\n",
       "      <td>064-740-7151</td>\n",
       "      <td>['kbs', 'KBS제주', '견학', '관광지', '문화콘텐츠산업', '방송국'...</td>\n",
       "      <td>https://cdn.visitkorea.or.kr/img/call?cmd=VIEW...</td>\n",
       "      <td>제주특별자치도 제주시 복지로1길 8</td>\n",
       "      <td>33.488025</td>\n",
       "      <td>126.526372</td>\n",
       "    </tr>\n",
       "    <tr>\n",
       "      <th>2</th>\n",
       "      <td>SOS박물관</td>\n",
       "      <td>제주 서귀포시</td>\n",
       "      <td>064-739-7707</td>\n",
       "      <td>['SOS박물관', '가족과함께', '관광지', '교과서속여행', '교육체험', '...</td>\n",
       "      <td>https://cdn.visitkorea.or.kr/img/call?cmd=VIEW...</td>\n",
       "      <td>제주특별자치도 서귀포시 월드컵로 31</td>\n",
       "      <td>33.247239</td>\n",
       "      <td>126.509208</td>\n",
       "    </tr>\n",
       "    <tr>\n",
       "      <th>3</th>\n",
       "      <td>가마오름</td>\n",
       "      <td>제주 제주시</td>\n",
       "      <td>064-740-6000</td>\n",
       "      <td>['관광지', '자연']</td>\n",
       "      <td>https://cdn.visitkorea.or.kr/img/call?cmd=VIEW...</td>\n",
       "      <td>제주특별자치도 제주시 한경면 청수서5길</td>\n",
       "      <td>33.303928</td>\n",
       "      <td>126.253830</td>\n",
       "    </tr>\n",
       "    <tr>\n",
       "      <th>4</th>\n",
       "      <td>가메창(암메)</td>\n",
       "      <td>제주 제주시</td>\n",
       "      <td>064-740-6000</td>\n",
       "      <td>['관광지', '자연']</td>\n",
       "      <td>https://cdn.visitkorea.or.kr/img/call?cmd=VIEW...</td>\n",
       "      <td>제주특별자치도 제주시 한경면 청수로 13-3</td>\n",
       "      <td>33.320907</td>\n",
       "      <td>126.246082</td>\n",
       "    </tr>\n",
       "  </tbody>\n",
       "</table>\n",
       "</div>"
      ],
      "text/plain": [
       "       name   region           tel  \\\n",
       "0  1100고지습지  제주 서귀포시  064-710-4071   \n",
       "1    KBS 제주   제주 제주시  064-740-7151   \n",
       "2    SOS박물관  제주 서귀포시  064-739-7707   \n",
       "3      가마오름   제주 제주시  064-740-6000   \n",
       "4   가메창(암메)   제주 제주시  064-740-6000   \n",
       "\n",
       "                                             keyword  \\\n",
       "0                                      ['관광지', '자연']   \n",
       "1  ['kbs', 'KBS제주', '견학', '관광지', '문화콘텐츠산업', '방송국'...   \n",
       "2  ['SOS박물관', '가족과함께', '관광지', '교과서속여행', '교육체험', '...   \n",
       "3                                      ['관광지', '자연']   \n",
       "4                                      ['관광지', '자연']   \n",
       "\n",
       "                                               photo  \\\n",
       "0  https://cdn.visitkorea.or.kr/img/call?cmd=VIEW...   \n",
       "1  https://cdn.visitkorea.or.kr/img/call?cmd=VIEW...   \n",
       "2  https://cdn.visitkorea.or.kr/img/call?cmd=VIEW...   \n",
       "3  https://cdn.visitkorea.or.kr/img/call?cmd=VIEW...   \n",
       "4  https://cdn.visitkorea.or.kr/img/call?cmd=VIEW...   \n",
       "\n",
       "                    address        lat         lon  \n",
       "0    제주특별자치도 서귀포시 색달동 산 1-2  33.357774  126.462518  \n",
       "1       제주특별자치도 제주시 복지로1길 8  33.488025  126.526372  \n",
       "2      제주특별자치도 서귀포시 월드컵로 31  33.247239  126.509208  \n",
       "3     제주특별자치도 제주시 한경면 청수서5길  33.303928  126.253830  \n",
       "4  제주특별자치도 제주시 한경면 청수로 13-3  33.320907  126.246082  "
      ]
     },
     "execution_count": 18,
     "metadata": {},
     "output_type": "execute_result"
    }
   ],
   "source": [
    "df_1.head()"
   ]
  },
  {
   "cell_type": "code",
   "execution_count": 19,
   "metadata": {},
   "outputs": [
    {
     "name": "stdout",
     "output_type": "stream",
     "text": [
      "<class 'pandas.core.frame.DataFrame'>\n",
      "Int64Index: 384 entries, 0 to 39\n",
      "Data columns (total 8 columns):\n",
      " #   Column   Non-Null Count  Dtype  \n",
      "---  ------   --------------  -----  \n",
      " 0   name     384 non-null    object \n",
      " 1   region   384 non-null    object \n",
      " 2   tel      382 non-null    object \n",
      " 3   keyword  384 non-null    object \n",
      " 4   photo    384 non-null    object \n",
      " 5   address  344 non-null    object \n",
      " 6   lat      344 non-null    float64\n",
      " 7   lon      344 non-null    float64\n",
      "dtypes: float64(2), object(6)\n",
      "memory usage: 27.0+ KB\n"
     ]
    }
   ],
   "source": [
    "df_1.info()"
   ]
  },
  {
   "cell_type": "code",
   "execution_count": 20,
   "metadata": {},
   "outputs": [],
   "source": [
    "df_1 = df_1.drop_duplicates([\"name\", \"region\", \"tel\", \"keyword\", \"photo\"])"
   ]
  },
  {
   "cell_type": "code",
   "execution_count": 21,
   "metadata": {},
   "outputs": [
    {
     "data": {
      "text/plain": [
       "(345, 8)"
      ]
     },
     "execution_count": 21,
     "metadata": {},
     "output_type": "execute_result"
    }
   ],
   "source": [
    "df_1.shape"
   ]
  },
  {
   "cell_type": "code",
   "execution_count": 22,
   "metadata": {},
   "outputs": [],
   "source": [
    "df_1.reset_index(drop = True, inplace= True)"
   ]
  },
  {
   "cell_type": "code",
   "execution_count": 23,
   "metadata": {},
   "outputs": [
    {
     "data": {
      "text/html": [
       "<div>\n",
       "<style scoped>\n",
       "    .dataframe tbody tr th:only-of-type {\n",
       "        vertical-align: middle;\n",
       "    }\n",
       "\n",
       "    .dataframe tbody tr th {\n",
       "        vertical-align: top;\n",
       "    }\n",
       "\n",
       "    .dataframe thead th {\n",
       "        text-align: right;\n",
       "    }\n",
       "</style>\n",
       "<table border=\"1\" class=\"dataframe\">\n",
       "  <thead>\n",
       "    <tr style=\"text-align: right;\">\n",
       "      <th></th>\n",
       "      <th>name</th>\n",
       "      <th>region</th>\n",
       "      <th>tel</th>\n",
       "      <th>keyword</th>\n",
       "      <th>photo</th>\n",
       "      <th>address</th>\n",
       "      <th>lat</th>\n",
       "      <th>lon</th>\n",
       "    </tr>\n",
       "  </thead>\n",
       "  <tbody>\n",
       "    <tr>\n",
       "      <th>340</th>\n",
       "      <td>후곡악</td>\n",
       "      <td>제주 서귀포시</td>\n",
       "      <td>064-740-6000</td>\n",
       "      <td>['관광지', '자연']</td>\n",
       "      <td>https://cdn.visitkorea.or.kr/img/call?cmd=VIEW...</td>\n",
       "      <td>제주특별자치도 서귀포시 성산읍 일주동로</td>\n",
       "      <td>33.416346</td>\n",
       "      <td>126.889907</td>\n",
       "    </tr>\n",
       "    <tr>\n",
       "      <th>341</th>\n",
       "      <td>휴림</td>\n",
       "      <td>제주 제주시</td>\n",
       "      <td>064-799-4883</td>\n",
       "      <td>['가족과함께', '관광지', '국내힐링여행', '남녀노소', '아이와함께', '언...</td>\n",
       "      <td>https://cdn.visitkorea.or.kr/img/call?cmd=VIEW...</td>\n",
       "      <td>제주특별자치도 제주시 애월읍 광령남서길 40</td>\n",
       "      <td>33.443436</td>\n",
       "      <td>126.428992</td>\n",
       "    </tr>\n",
       "    <tr>\n",
       "      <th>342</th>\n",
       "      <td>휴애리자연생활공원</td>\n",
       "      <td>제주 서귀포시</td>\n",
       "      <td>064-732-2114</td>\n",
       "      <td>['가족과함께', '가족체험', '감성사진', '관광지', '데이트장소추천', '복...</td>\n",
       "      <td>https://cdn.visitkorea.or.kr/img/call?cmd=VIEW...</td>\n",
       "      <td>제주특별자치도 서귀포시 남원읍 신례동로 256</td>\n",
       "      <td>33.308540</td>\n",
       "      <td>126.634483</td>\n",
       "    </tr>\n",
       "    <tr>\n",
       "      <th>343</th>\n",
       "      <td>흙붉은오름</td>\n",
       "      <td>제주 제주시</td>\n",
       "      <td>064-740-6000</td>\n",
       "      <td>['관광지', '자연']</td>\n",
       "      <td>https://cdn.visitkorea.or.kr/img/call?cmd=VIEW...</td>\n",
       "      <td>제주특별자치도 서귀포시 남원읍 영실로</td>\n",
       "      <td>33.369852</td>\n",
       "      <td>126.555638</td>\n",
       "    </tr>\n",
       "    <tr>\n",
       "      <th>344</th>\n",
       "      <td>세리월드</td>\n",
       "      <td>제주 서귀포시</td>\n",
       "      <td>064-739-8254</td>\n",
       "      <td>['레포츠', '속도', '연인과함께', '제주도', '제주도여행', '체험', '...</td>\n",
       "      <td>https://cdn.visitkorea.or.kr/img/call?cmd=VIEW...</td>\n",
       "      <td>NaN</td>\n",
       "      <td>NaN</td>\n",
       "      <td>NaN</td>\n",
       "    </tr>\n",
       "  </tbody>\n",
       "</table>\n",
       "</div>"
      ],
      "text/plain": [
       "          name   region           tel  \\\n",
       "340        후곡악  제주 서귀포시  064-740-6000   \n",
       "341         휴림   제주 제주시  064-799-4883   \n",
       "342  휴애리자연생활공원  제주 서귀포시  064-732-2114   \n",
       "343      흙붉은오름   제주 제주시  064-740-6000   \n",
       "344       세리월드  제주 서귀포시  064-739-8254   \n",
       "\n",
       "                                               keyword  \\\n",
       "340                                      ['관광지', '자연']   \n",
       "341  ['가족과함께', '관광지', '국내힐링여행', '남녀노소', '아이와함께', '언...   \n",
       "342  ['가족과함께', '가족체험', '감성사진', '관광지', '데이트장소추천', '복...   \n",
       "343                                      ['관광지', '자연']   \n",
       "344  ['레포츠', '속도', '연인과함께', '제주도', '제주도여행', '체험', '...   \n",
       "\n",
       "                                                 photo  \\\n",
       "340  https://cdn.visitkorea.or.kr/img/call?cmd=VIEW...   \n",
       "341  https://cdn.visitkorea.or.kr/img/call?cmd=VIEW...   \n",
       "342  https://cdn.visitkorea.or.kr/img/call?cmd=VIEW...   \n",
       "343  https://cdn.visitkorea.or.kr/img/call?cmd=VIEW...   \n",
       "344  https://cdn.visitkorea.or.kr/img/call?cmd=VIEW...   \n",
       "\n",
       "                       address        lat         lon  \n",
       "340      제주특별자치도 서귀포시 성산읍 일주동로  33.416346  126.889907  \n",
       "341   제주특별자치도 제주시 애월읍 광령남서길 40  33.443436  126.428992  \n",
       "342  제주특별자치도 서귀포시 남원읍 신례동로 256  33.308540  126.634483  \n",
       "343       제주특별자치도 서귀포시 남원읍 영실로  33.369852  126.555638  \n",
       "344                        NaN        NaN         NaN  "
      ]
     },
     "execution_count": 23,
     "metadata": {},
     "output_type": "execute_result"
    }
   ],
   "source": [
    "df_1.tail()"
   ]
  },
  {
   "cell_type": "code",
   "execution_count": 24,
   "metadata": {},
   "outputs": [],
   "source": [
    "df_his = pd.read_csv(r'.\\travel_data_history\\제주_history_data.csv', encoding = 'utf-8-sig')"
   ]
  },
  {
   "cell_type": "code",
   "execution_count": 25,
   "metadata": {},
   "outputs": [
    {
     "data": {
      "text/plain": [
       "(48, 5)"
      ]
     },
     "execution_count": 25,
     "metadata": {},
     "output_type": "execute_result"
    }
   ],
   "source": [
    "df_his.shape"
   ]
  },
  {
   "cell_type": "code",
   "execution_count": 26,
   "metadata": {},
   "outputs": [
    {
     "name": "stdout",
     "output_type": "stream",
     "text": [
      "<class 'pandas.core.frame.DataFrame'>\n",
      "RangeIndex: 48 entries, 0 to 47\n",
      "Data columns (total 5 columns):\n",
      " #   Column   Non-Null Count  Dtype \n",
      "---  ------   --------------  ----- \n",
      " 0   name     48 non-null     object\n",
      " 1   region   48 non-null     object\n",
      " 2   tel      48 non-null     object\n",
      " 3   keyword  48 non-null     object\n",
      " 4   photo    48 non-null     object\n",
      "dtypes: object(5)\n",
      "memory usage: 2.0+ KB\n"
     ]
    }
   ],
   "source": [
    "df_his.info()"
   ]
  },
  {
   "cell_type": "code",
   "execution_count": 27,
   "metadata": {},
   "outputs": [],
   "source": [
    "df_his = df_his.drop_duplicates([\"name\", \"region\", \"tel\", \"keyword\", \"photo\"])"
   ]
  },
  {
   "cell_type": "code",
   "execution_count": 28,
   "metadata": {},
   "outputs": [
    {
     "data": {
      "text/plain": [
       "(48, 5)"
      ]
     },
     "execution_count": 28,
     "metadata": {},
     "output_type": "execute_result"
    }
   ],
   "source": [
    "df_his.shape"
   ]
  },
  {
   "cell_type": "code",
   "execution_count": 29,
   "metadata": {},
   "outputs": [
    {
     "name": "stdout",
     "output_type": "stream",
     "text": [
      "<class 'pandas.core.frame.DataFrame'>\n",
      "Int64Index: 48 entries, 0 to 47\n",
      "Data columns (total 5 columns):\n",
      " #   Column   Non-Null Count  Dtype \n",
      "---  ------   --------------  ----- \n",
      " 0   name     48 non-null     object\n",
      " 1   region   48 non-null     object\n",
      " 2   tel      48 non-null     object\n",
      " 3   keyword  48 non-null     object\n",
      " 4   photo    48 non-null     object\n",
      "dtypes: object(5)\n",
      "memory usage: 2.2+ KB\n"
     ]
    }
   ],
   "source": [
    "df_his.info()"
   ]
  },
  {
   "cell_type": "code",
   "execution_count": 30,
   "metadata": {},
   "outputs": [],
   "source": [
    "df_2 = pd.concat([df_1, df_his])"
   ]
  },
  {
   "cell_type": "code",
   "execution_count": 31,
   "metadata": {},
   "outputs": [
    {
     "data": {
      "text/plain": [
       "(393, 8)"
      ]
     },
     "execution_count": 31,
     "metadata": {},
     "output_type": "execute_result"
    }
   ],
   "source": [
    "df_2.shape"
   ]
  },
  {
   "cell_type": "code",
   "execution_count": 32,
   "metadata": {},
   "outputs": [
    {
     "name": "stdout",
     "output_type": "stream",
     "text": [
      "<class 'pandas.core.frame.DataFrame'>\n",
      "Int64Index: 393 entries, 0 to 47\n",
      "Data columns (total 8 columns):\n",
      " #   Column   Non-Null Count  Dtype  \n",
      "---  ------   --------------  -----  \n",
      " 0   name     393 non-null    object \n",
      " 1   region   393 non-null    object \n",
      " 2   tel      391 non-null    object \n",
      " 3   keyword  393 non-null    object \n",
      " 4   photo    393 non-null    object \n",
      " 5   address  344 non-null    object \n",
      " 6   lat      344 non-null    float64\n",
      " 7   lon      344 non-null    float64\n",
      "dtypes: float64(2), object(6)\n",
      "memory usage: 27.6+ KB\n"
     ]
    }
   ],
   "source": [
    "df_2.info()"
   ]
  },
  {
   "cell_type": "code",
   "execution_count": 33,
   "metadata": {},
   "outputs": [],
   "source": [
    "df_2 = df_2.drop_duplicates([\"name\", \"region\", \"tel\", \"keyword\", \"photo\"])"
   ]
  },
  {
   "cell_type": "code",
   "execution_count": 34,
   "metadata": {},
   "outputs": [
    {
     "data": {
      "text/plain": [
       "(347, 8)"
      ]
     },
     "execution_count": 34,
     "metadata": {},
     "output_type": "execute_result"
    }
   ],
   "source": [
    "df_2.shape"
   ]
  },
  {
   "cell_type": "code",
   "execution_count": 35,
   "metadata": {},
   "outputs": [
    {
     "name": "stdout",
     "output_type": "stream",
     "text": [
      "<class 'pandas.core.frame.DataFrame'>\n",
      "Int64Index: 347 entries, 0 to 45\n",
      "Data columns (total 8 columns):\n",
      " #   Column   Non-Null Count  Dtype  \n",
      "---  ------   --------------  -----  \n",
      " 0   name     347 non-null    object \n",
      " 1   region   347 non-null    object \n",
      " 2   tel      345 non-null    object \n",
      " 3   keyword  347 non-null    object \n",
      " 4   photo    347 non-null    object \n",
      " 5   address  344 non-null    object \n",
      " 6   lat      344 non-null    float64\n",
      " 7   lon      344 non-null    float64\n",
      "dtypes: float64(2), object(6)\n",
      "memory usage: 24.4+ KB\n"
     ]
    }
   ],
   "source": [
    "df_2.info()"
   ]
  },
  {
   "cell_type": "code",
   "execution_count": 36,
   "metadata": {},
   "outputs": [],
   "source": [
    "df_2.reset_index(drop = True, inplace= True)"
   ]
  },
  {
   "cell_type": "code",
   "execution_count": 37,
   "metadata": {},
   "outputs": [
    {
     "data": {
      "text/html": [
       "<div>\n",
       "<style scoped>\n",
       "    .dataframe tbody tr th:only-of-type {\n",
       "        vertical-align: middle;\n",
       "    }\n",
       "\n",
       "    .dataframe tbody tr th {\n",
       "        vertical-align: top;\n",
       "    }\n",
       "\n",
       "    .dataframe thead th {\n",
       "        text-align: right;\n",
       "    }\n",
       "</style>\n",
       "<table border=\"1\" class=\"dataframe\">\n",
       "  <thead>\n",
       "    <tr style=\"text-align: right;\">\n",
       "      <th></th>\n",
       "      <th>name</th>\n",
       "      <th>region</th>\n",
       "      <th>tel</th>\n",
       "      <th>keyword</th>\n",
       "      <th>photo</th>\n",
       "      <th>address</th>\n",
       "      <th>lat</th>\n",
       "      <th>lon</th>\n",
       "    </tr>\n",
       "  </thead>\n",
       "  <tbody>\n",
       "    <tr>\n",
       "      <th>342</th>\n",
       "      <td>휴애리자연생활공원</td>\n",
       "      <td>제주 서귀포시</td>\n",
       "      <td>064-732-2114</td>\n",
       "      <td>['가족과함께', '가족체험', '감성사진', '관광지', '데이트장소추천', '복...</td>\n",
       "      <td>https://cdn.visitkorea.or.kr/img/call?cmd=VIEW...</td>\n",
       "      <td>제주특별자치도 서귀포시 남원읍 신례동로 256</td>\n",
       "      <td>33.308540</td>\n",
       "      <td>126.634483</td>\n",
       "    </tr>\n",
       "    <tr>\n",
       "      <th>343</th>\n",
       "      <td>흙붉은오름</td>\n",
       "      <td>제주 제주시</td>\n",
       "      <td>064-740-6000</td>\n",
       "      <td>['관광지', '자연']</td>\n",
       "      <td>https://cdn.visitkorea.or.kr/img/call?cmd=VIEW...</td>\n",
       "      <td>제주특별자치도 서귀포시 남원읍 영실로</td>\n",
       "      <td>33.369852</td>\n",
       "      <td>126.555638</td>\n",
       "    </tr>\n",
       "    <tr>\n",
       "      <th>344</th>\n",
       "      <td>세리월드</td>\n",
       "      <td>제주 서귀포시</td>\n",
       "      <td>064-739-8254</td>\n",
       "      <td>['레포츠', '속도', '연인과함께', '제주도', '제주도여행', '체험', '...</td>\n",
       "      <td>https://cdn.visitkorea.or.kr/img/call?cmd=VIEW...</td>\n",
       "      <td>NaN</td>\n",
       "      <td>NaN</td>\n",
       "      <td>NaN</td>\n",
       "    </tr>\n",
       "    <tr>\n",
       "      <th>345</th>\n",
       "      <td>제주민속촌</td>\n",
       "      <td>제주 서귀포시</td>\n",
       "      <td>064-787-4501</td>\n",
       "      <td>['가족과함께', '교육여행', '문화시설', '사계절', '아이와함께', '역사'...</td>\n",
       "      <td>https://cdn.visitkorea.or.kr/img/call?cmd=VIEW...</td>\n",
       "      <td>NaN</td>\n",
       "      <td>NaN</td>\n",
       "      <td>NaN</td>\n",
       "    </tr>\n",
       "    <tr>\n",
       "      <th>346</th>\n",
       "      <td>제주통일관</td>\n",
       "      <td>제주 제주시</td>\n",
       "      <td>064-751-0191</td>\n",
       "      <td>['교과서속여행', '문화시설', '실내여행지', '아이와함께', '역사', '전시...</td>\n",
       "      <td>https://cdn.visitkorea.or.kr/img/call?cmd=VIEW...</td>\n",
       "      <td>NaN</td>\n",
       "      <td>NaN</td>\n",
       "      <td>NaN</td>\n",
       "    </tr>\n",
       "  </tbody>\n",
       "</table>\n",
       "</div>"
      ],
      "text/plain": [
       "          name   region           tel  \\\n",
       "342  휴애리자연생활공원  제주 서귀포시  064-732-2114   \n",
       "343      흙붉은오름   제주 제주시  064-740-6000   \n",
       "344       세리월드  제주 서귀포시  064-739-8254   \n",
       "345      제주민속촌  제주 서귀포시  064-787-4501   \n",
       "346      제주통일관   제주 제주시  064-751-0191   \n",
       "\n",
       "                                               keyword  \\\n",
       "342  ['가족과함께', '가족체험', '감성사진', '관광지', '데이트장소추천', '복...   \n",
       "343                                      ['관광지', '자연']   \n",
       "344  ['레포츠', '속도', '연인과함께', '제주도', '제주도여행', '체험', '...   \n",
       "345  ['가족과함께', '교육여행', '문화시설', '사계절', '아이와함께', '역사'...   \n",
       "346  ['교과서속여행', '문화시설', '실내여행지', '아이와함께', '역사', '전시...   \n",
       "\n",
       "                                                 photo  \\\n",
       "342  https://cdn.visitkorea.or.kr/img/call?cmd=VIEW...   \n",
       "343  https://cdn.visitkorea.or.kr/img/call?cmd=VIEW...   \n",
       "344  https://cdn.visitkorea.or.kr/img/call?cmd=VIEW...   \n",
       "345  https://cdn.visitkorea.or.kr/img/call?cmd=VIEW...   \n",
       "346  https://cdn.visitkorea.or.kr/img/call?cmd=VIEW...   \n",
       "\n",
       "                       address        lat         lon  \n",
       "342  제주특별자치도 서귀포시 남원읍 신례동로 256  33.308540  126.634483  \n",
       "343       제주특별자치도 서귀포시 남원읍 영실로  33.369852  126.555638  \n",
       "344                        NaN        NaN         NaN  \n",
       "345                        NaN        NaN         NaN  \n",
       "346                        NaN        NaN         NaN  "
      ]
     },
     "execution_count": 37,
     "metadata": {},
     "output_type": "execute_result"
    }
   ],
   "source": [
    "df_2.tail()"
   ]
  },
  {
   "cell_type": "code",
   "execution_count": 38,
   "metadata": {},
   "outputs": [],
   "source": [
    "df_nat = pd.read_csv(r'.\\travel_data_natural\\제주_natural_data.csv', encoding = 'utf-8-sig')"
   ]
  },
  {
   "cell_type": "code",
   "execution_count": 39,
   "metadata": {},
   "outputs": [
    {
     "data": {
      "text/plain": [
       "(168, 5)"
      ]
     },
     "execution_count": 39,
     "metadata": {},
     "output_type": "execute_result"
    }
   ],
   "source": [
    "df_nat.shape"
   ]
  },
  {
   "cell_type": "code",
   "execution_count": 40,
   "metadata": {},
   "outputs": [
    {
     "name": "stdout",
     "output_type": "stream",
     "text": [
      "<class 'pandas.core.frame.DataFrame'>\n",
      "RangeIndex: 168 entries, 0 to 167\n",
      "Data columns (total 5 columns):\n",
      " #   Column   Non-Null Count  Dtype \n",
      "---  ------   --------------  ----- \n",
      " 0   name     168 non-null    object\n",
      " 1   region   168 non-null    object\n",
      " 2   tel      168 non-null    object\n",
      " 3   keyword  168 non-null    object\n",
      " 4   photo    168 non-null    object\n",
      "dtypes: object(5)\n",
      "memory usage: 6.7+ KB\n"
     ]
    }
   ],
   "source": [
    "df_nat.info()"
   ]
  },
  {
   "cell_type": "code",
   "execution_count": 41,
   "metadata": {},
   "outputs": [],
   "source": [
    "df_nat = df_nat.drop_duplicates([\"name\", \"region\", \"tel\", \"keyword\", \"photo\"])"
   ]
  },
  {
   "cell_type": "code",
   "execution_count": 42,
   "metadata": {},
   "outputs": [
    {
     "data": {
      "text/plain": [
       "(168, 5)"
      ]
     },
     "execution_count": 42,
     "metadata": {},
     "output_type": "execute_result"
    }
   ],
   "source": [
    "df_nat.shape"
   ]
  },
  {
   "cell_type": "code",
   "execution_count": 43,
   "metadata": {},
   "outputs": [
    {
     "name": "stdout",
     "output_type": "stream",
     "text": [
      "<class 'pandas.core.frame.DataFrame'>\n",
      "Int64Index: 168 entries, 0 to 167\n",
      "Data columns (total 5 columns):\n",
      " #   Column   Non-Null Count  Dtype \n",
      "---  ------   --------------  ----- \n",
      " 0   name     168 non-null    object\n",
      " 1   region   168 non-null    object\n",
      " 2   tel      168 non-null    object\n",
      " 3   keyword  168 non-null    object\n",
      " 4   photo    168 non-null    object\n",
      "dtypes: object(5)\n",
      "memory usage: 7.9+ KB\n"
     ]
    }
   ],
   "source": [
    "df_nat.info()"
   ]
  },
  {
   "cell_type": "code",
   "execution_count": 44,
   "metadata": {},
   "outputs": [],
   "source": [
    "df = pd.concat([df_2, df_nat])"
   ]
  },
  {
   "cell_type": "code",
   "execution_count": 45,
   "metadata": {},
   "outputs": [
    {
     "data": {
      "text/plain": [
       "(515, 8)"
      ]
     },
     "execution_count": 45,
     "metadata": {},
     "output_type": "execute_result"
    }
   ],
   "source": [
    "df.shape"
   ]
  },
  {
   "cell_type": "code",
   "execution_count": 46,
   "metadata": {},
   "outputs": [
    {
     "name": "stdout",
     "output_type": "stream",
     "text": [
      "<class 'pandas.core.frame.DataFrame'>\n",
      "Int64Index: 515 entries, 0 to 167\n",
      "Data columns (total 8 columns):\n",
      " #   Column   Non-Null Count  Dtype  \n",
      "---  ------   --------------  -----  \n",
      " 0   name     515 non-null    object \n",
      " 1   region   515 non-null    object \n",
      " 2   tel      513 non-null    object \n",
      " 3   keyword  515 non-null    object \n",
      " 4   photo    515 non-null    object \n",
      " 5   address  344 non-null    object \n",
      " 6   lat      344 non-null    float64\n",
      " 7   lon      344 non-null    float64\n",
      "dtypes: float64(2), object(6)\n",
      "memory usage: 36.2+ KB\n"
     ]
    }
   ],
   "source": [
    "df.info()"
   ]
  },
  {
   "cell_type": "code",
   "execution_count": 47,
   "metadata": {},
   "outputs": [],
   "source": [
    "df = df.drop_duplicates([\"name\", \"region\", \"tel\", \"keyword\", \"photo\"])"
   ]
  },
  {
   "cell_type": "code",
   "execution_count": 48,
   "metadata": {},
   "outputs": [
    {
     "data": {
      "text/plain": [
       "(347, 8)"
      ]
     },
     "execution_count": 48,
     "metadata": {},
     "output_type": "execute_result"
    }
   ],
   "source": [
    "df.shape"
   ]
  },
  {
   "cell_type": "code",
   "execution_count": 49,
   "metadata": {},
   "outputs": [
    {
     "name": "stdout",
     "output_type": "stream",
     "text": [
      "<class 'pandas.core.frame.DataFrame'>\n",
      "Int64Index: 347 entries, 0 to 346\n",
      "Data columns (total 8 columns):\n",
      " #   Column   Non-Null Count  Dtype  \n",
      "---  ------   --------------  -----  \n",
      " 0   name     347 non-null    object \n",
      " 1   region   347 non-null    object \n",
      " 2   tel      345 non-null    object \n",
      " 3   keyword  347 non-null    object \n",
      " 4   photo    347 non-null    object \n",
      " 5   address  344 non-null    object \n",
      " 6   lat      344 non-null    float64\n",
      " 7   lon      344 non-null    float64\n",
      "dtypes: float64(2), object(6)\n",
      "memory usage: 24.4+ KB\n"
     ]
    }
   ],
   "source": [
    "df.info()"
   ]
  },
  {
   "cell_type": "code",
   "execution_count": 50,
   "metadata": {},
   "outputs": [],
   "source": [
    "df.reset_index(drop = True, inplace= True)"
   ]
  },
  {
   "cell_type": "code",
   "execution_count": 51,
   "metadata": {},
   "outputs": [
    {
     "data": {
      "text/html": [
       "<div>\n",
       "<style scoped>\n",
       "    .dataframe tbody tr th:only-of-type {\n",
       "        vertical-align: middle;\n",
       "    }\n",
       "\n",
       "    .dataframe tbody tr th {\n",
       "        vertical-align: top;\n",
       "    }\n",
       "\n",
       "    .dataframe thead th {\n",
       "        text-align: right;\n",
       "    }\n",
       "</style>\n",
       "<table border=\"1\" class=\"dataframe\">\n",
       "  <thead>\n",
       "    <tr style=\"text-align: right;\">\n",
       "      <th></th>\n",
       "      <th>name</th>\n",
       "      <th>region</th>\n",
       "      <th>tel</th>\n",
       "      <th>keyword</th>\n",
       "      <th>photo</th>\n",
       "      <th>address</th>\n",
       "      <th>lat</th>\n",
       "      <th>lon</th>\n",
       "    </tr>\n",
       "  </thead>\n",
       "  <tbody>\n",
       "    <tr>\n",
       "      <th>342</th>\n",
       "      <td>휴애리자연생활공원</td>\n",
       "      <td>제주 서귀포시</td>\n",
       "      <td>064-732-2114</td>\n",
       "      <td>['가족과함께', '가족체험', '감성사진', '관광지', '데이트장소추천', '복...</td>\n",
       "      <td>https://cdn.visitkorea.or.kr/img/call?cmd=VIEW...</td>\n",
       "      <td>제주특별자치도 서귀포시 남원읍 신례동로 256</td>\n",
       "      <td>33.308540</td>\n",
       "      <td>126.634483</td>\n",
       "    </tr>\n",
       "    <tr>\n",
       "      <th>343</th>\n",
       "      <td>흙붉은오름</td>\n",
       "      <td>제주 제주시</td>\n",
       "      <td>064-740-6000</td>\n",
       "      <td>['관광지', '자연']</td>\n",
       "      <td>https://cdn.visitkorea.or.kr/img/call?cmd=VIEW...</td>\n",
       "      <td>제주특별자치도 서귀포시 남원읍 영실로</td>\n",
       "      <td>33.369852</td>\n",
       "      <td>126.555638</td>\n",
       "    </tr>\n",
       "    <tr>\n",
       "      <th>344</th>\n",
       "      <td>세리월드</td>\n",
       "      <td>제주 서귀포시</td>\n",
       "      <td>064-739-8254</td>\n",
       "      <td>['레포츠', '속도', '연인과함께', '제주도', '제주도여행', '체험', '...</td>\n",
       "      <td>https://cdn.visitkorea.or.kr/img/call?cmd=VIEW...</td>\n",
       "      <td>NaN</td>\n",
       "      <td>NaN</td>\n",
       "      <td>NaN</td>\n",
       "    </tr>\n",
       "    <tr>\n",
       "      <th>345</th>\n",
       "      <td>제주민속촌</td>\n",
       "      <td>제주 서귀포시</td>\n",
       "      <td>064-787-4501</td>\n",
       "      <td>['가족과함께', '교육여행', '문화시설', '사계절', '아이와함께', '역사'...</td>\n",
       "      <td>https://cdn.visitkorea.or.kr/img/call?cmd=VIEW...</td>\n",
       "      <td>NaN</td>\n",
       "      <td>NaN</td>\n",
       "      <td>NaN</td>\n",
       "    </tr>\n",
       "    <tr>\n",
       "      <th>346</th>\n",
       "      <td>제주통일관</td>\n",
       "      <td>제주 제주시</td>\n",
       "      <td>064-751-0191</td>\n",
       "      <td>['교과서속여행', '문화시설', '실내여행지', '아이와함께', '역사', '전시...</td>\n",
       "      <td>https://cdn.visitkorea.or.kr/img/call?cmd=VIEW...</td>\n",
       "      <td>NaN</td>\n",
       "      <td>NaN</td>\n",
       "      <td>NaN</td>\n",
       "    </tr>\n",
       "  </tbody>\n",
       "</table>\n",
       "</div>"
      ],
      "text/plain": [
       "          name   region           tel  \\\n",
       "342  휴애리자연생활공원  제주 서귀포시  064-732-2114   \n",
       "343      흙붉은오름   제주 제주시  064-740-6000   \n",
       "344       세리월드  제주 서귀포시  064-739-8254   \n",
       "345      제주민속촌  제주 서귀포시  064-787-4501   \n",
       "346      제주통일관   제주 제주시  064-751-0191   \n",
       "\n",
       "                                               keyword  \\\n",
       "342  ['가족과함께', '가족체험', '감성사진', '관광지', '데이트장소추천', '복...   \n",
       "343                                      ['관광지', '자연']   \n",
       "344  ['레포츠', '속도', '연인과함께', '제주도', '제주도여행', '체험', '...   \n",
       "345  ['가족과함께', '교육여행', '문화시설', '사계절', '아이와함께', '역사'...   \n",
       "346  ['교과서속여행', '문화시설', '실내여행지', '아이와함께', '역사', '전시...   \n",
       "\n",
       "                                                 photo  \\\n",
       "342  https://cdn.visitkorea.or.kr/img/call?cmd=VIEW...   \n",
       "343  https://cdn.visitkorea.or.kr/img/call?cmd=VIEW...   \n",
       "344  https://cdn.visitkorea.or.kr/img/call?cmd=VIEW...   \n",
       "345  https://cdn.visitkorea.or.kr/img/call?cmd=VIEW...   \n",
       "346  https://cdn.visitkorea.or.kr/img/call?cmd=VIEW...   \n",
       "\n",
       "                       address        lat         lon  \n",
       "342  제주특별자치도 서귀포시 남원읍 신례동로 256  33.308540  126.634483  \n",
       "343       제주특별자치도 서귀포시 남원읍 영실로  33.369852  126.555638  \n",
       "344                        NaN        NaN         NaN  \n",
       "345                        NaN        NaN         NaN  \n",
       "346                        NaN        NaN         NaN  "
      ]
     },
     "execution_count": 51,
     "metadata": {},
     "output_type": "execute_result"
    }
   ],
   "source": [
    "df.tail()"
   ]
  },
  {
   "cell_type": "code",
   "execution_count": 52,
   "metadata": {},
   "outputs": [],
   "source": [
    "df.set_index([\"name\"], inplace = True)"
   ]
  },
  {
   "cell_type": "code",
   "execution_count": 53,
   "metadata": {},
   "outputs": [],
   "source": [
    "df.to_csv(\"제주.csv\", mode='w', encoding ='utf-8-sig')"
   ]
  },
  {
   "cell_type": "code",
   "execution_count": null,
   "metadata": {},
   "outputs": [],
   "source": []
  }
 ],
 "metadata": {
  "kernelspec": {
   "display_name": "Python 3",
   "language": "python",
   "name": "python3"
  },
  "language_info": {
   "codemirror_mode": {
    "name": "ipython",
    "version": 3
   },
   "file_extension": ".py",
   "mimetype": "text/x-python",
   "name": "python",
   "nbconvert_exporter": "python",
   "pygments_lexer": "ipython3",
   "version": "3.8.3"
  }
 },
 "nbformat": 4,
 "nbformat_minor": 4
}
