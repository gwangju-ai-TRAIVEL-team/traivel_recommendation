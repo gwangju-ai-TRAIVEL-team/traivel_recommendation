{
 "metadata": {
  "language_info": {
   "codemirror_mode": {
    "name": "ipython",
    "version": 3
   },
   "file_extension": ".py",
   "mimetype": "text/x-python",
   "name": "python",
   "nbconvert_exporter": "python",
   "pygments_lexer": "ipython3",
   "version": "3.7.6-final"
  },
  "orig_nbformat": 2,
  "kernelspec": {
   "name": "python_defaultSpec_1599623294243",
   "display_name": "Python 3.7.6 64-bit ('base': conda)"
  }
 },
 "nbformat": 4,
 "nbformat_minor": 2,
 "cells": [
  {
   "cell_type": "code",
   "execution_count": 2,
   "metadata": {},
   "outputs": [],
   "source": [
    "import pandas as pd\n"
   ]
  },
  {
   "cell_type": "code",
   "execution_count": 28,
   "metadata": {},
   "outputs": [],
   "source": [
    "df = pd.read_csv('code.csv', encoding='utf-8')\n",
    "df\n",
    "cat2 = df[['cat2', '중분류']]\n",
    "cat3 = df[['cat3', '소분류']]"
   ]
  },
  {
   "cell_type": "code",
   "execution_count": 38,
   "metadata": {},
   "outputs": [
    {
     "output_type": "execute_result",
     "data": {
      "text/plain": "(     cat2     중분류\n 0   A0101   자연관광지\n 1   A0102    관광자원\n 2   A0201   역사관광지\n 3   A0202   휴양관광지\n 4   A0203   체험관광지\n 5   A0204   산업관광지\n 6   A0205  건축/조형물\n 7   A0206    문화시설\n 8   A0207      축제\n 9   A0208   공연/행사\n 10  A0301   레포츠소개\n 11  A0302  육상 레포츠\n 12  A0303  수상 레포츠\n 13  A0304  항공 레포츠\n 14  A0305  복합 레포츠\n 15  A0401      쇼핑,\n           cat3      소분류\n 0    A01010100     국립공원\n 1    A01010200     도립공원\n 2    A01010300     군립공원\n 3    A01010400        산\n 4    A01010500  자연생태관광지\n ..         ...      ...\n 137  A04010500     할인매장\n 138  A04010600     전문상가\n 139  A04010700    공예,공방\n 140  A04010800   관광기념품점\n 141  A04010900   특산물판매점\n \n [142 rows x 2 columns])"
     },
     "metadata": {},
     "execution_count": 38
    }
   ],
   "source": [
    "dic2 = cat2.to_dict(orient='record')\n",
    "dic2 = list({dic['cat2']:dic for dic in dic2}.values())\n",
    "cat2 = pd.DataFrame(dic2)\n",
    "\n",
    "dic3 = cat3.to_dict(orient='record')\n",
    "dic3 = list({dic['cat3']:dic for dic in dic3}.values())\n",
    "cat3 = pd.DataFrame(dic3)"
   ]
  },
  {
   "cell_type": "code",
   "execution_count": 13,
   "metadata": {},
   "outputs": [
    {
     "output_type": "error",
     "ename": "NameError",
     "evalue": "name 'cat2' is not defined",
     "traceback": [
      "\u001b[1;31m---------------------------------------------------------------------------\u001b[0m",
      "\u001b[1;31mNameError\u001b[0m                                 Traceback (most recent call last)",
      "\u001b[1;32m<ipython-input-13-21c5b21aca72>\u001b[0m in \u001b[0;36m<module>\u001b[1;34m\u001b[0m\n\u001b[1;32m----> 1\u001b[1;33m \u001b[0mcategory\u001b[0m \u001b[1;33m=\u001b[0m \u001b[0mpd\u001b[0m\u001b[1;33m.\u001b[0m\u001b[0mconcat\u001b[0m\u001b[1;33m(\u001b[0m\u001b[1;33m[\u001b[0m\u001b[0mcat2\u001b[0m\u001b[1;33m,\u001b[0m \u001b[0mcat3\u001b[0m\u001b[1;33m]\u001b[0m\u001b[1;33m,\u001b[0m \u001b[0maxis\u001b[0m\u001b[1;33m=\u001b[0m\u001b[1;36m1\u001b[0m\u001b[1;33m)\u001b[0m\u001b[1;33m\u001b[0m\u001b[1;33m\u001b[0m\u001b[0m\n\u001b[0m\u001b[0;32m      2\u001b[0m \u001b[0mcategory\u001b[0m\u001b[1;33m.\u001b[0m\u001b[0mto_csv\u001b[0m\u001b[1;33m(\u001b[0m\u001b[1;34m'category.csv'\u001b[0m\u001b[1;33m)\u001b[0m\u001b[1;33m\u001b[0m\u001b[1;33m\u001b[0m\u001b[0m\n",
      "\u001b[1;31mNameError\u001b[0m: name 'cat2' is not defined"
     ]
    }
   ],
   "source": [
    "category = pd.concat([cat2, cat3], axis=1)\n",
    "category.to_csv('category.csv')"
   ]
  },
  {
   "cell_type": "code",
   "execution_count": 28,
   "metadata": {
    "tags": []
   },
   "outputs": [
    {
     "output_type": "execute_result",
     "data": {
      "text/plain": "'축제'"
     },
     "metadata": {},
     "execution_count": 28
    }
   ],
   "source": [
    "df = pd.read_csv('category.csv')\n",
    "code = 'A0207'\n",
    "mid = df[df['cat2'] == code]['중분류']\n",
    "mid.values[0]"
   ]
  }
 ]
}